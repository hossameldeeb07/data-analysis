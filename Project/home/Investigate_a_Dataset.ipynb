{
 "cells": [
  {
   "cell_type": "markdown",
   "metadata": {},
   "source": [
    "> **Tip**: Welcome to the Investigate a Dataset project! You will find tips in quoted sections like this to help organize your approach to your investigation. Once you complete this project, remove these **Tip** sections from your report before submission. First things first, you might want to double-click this Markdown cell and change the title so that it reflects your dataset and investigation.\n",
    "\n",
    "# Project: Investigate a Dataset - [No-show appointments]\n",
    "\n",
    "## Table of Contents\n",
    "<ul>\n",
    "<li><a href=\"#intro\">Introduction</a></li>\n",
    "<li><a href=\"#wrangling\">Data Wrangling</a></li>\n",
    "<li><a href=\"#eda\">Exploratory Data Analysis</a></li>\n",
    "<li><a href=\"#conclusions\">Conclusions</a></li>\n",
    "</ul>"
   ]
  },
  {
   "cell_type": "markdown",
   "metadata": {},
   "source": [
    "<a id='intro'></a>\n",
    "## Introduction\n",
    "\n",
    "\n",
    "This dataset collects information from 100k medical appointments in Brazil and is focused on the question of whether or not patients show up for their appointment. \n",
    "A number of characteristics about the patient are included in each row.\n",
    "\n",
    "● ‘ScheduledDay’ tells us on what day the patient set up their appointment.\n",
    "\n",
    "● ‘Neighborhood’ indicates the location of the hospital.\n",
    "\n",
    "● ‘Scholarship’ indicates whether or not the patient is enrolled in Brasilian welfare program Bolsa Família.\n",
    "\n",
    "● Be careful about the encoding of the last column: it says ‘No’ if the patient showed up to their appointment, and ‘Yes’ if they did not show up.\n",
    "\n",
    "We need to figure out what factors are important for us to predict if the patient will show up for their scheduled appointment?"
   ]
  },
  {
   "cell_type": "code",
   "execution_count": null,
   "metadata": {},
   "outputs": [],
   "source": [
    "# Use this cell to set up import statements for all of the packages that you\n",
    "#   plan to use.\n",
    "import numpy as np\n",
    "import pandas as pd\n",
    "import matplotlib.pyplot as plt\n",
    "import seaborn as sns\n",
    "% matplotlib inline"
   ]
  },
  {
   "cell_type": "code",
   "execution_count": null,
   "metadata": {},
   "outputs": [],
   "source": [
    "# Upgrade pandas to use dataframe.explode() function. \n",
    "!pip install --upgrade pandas==0.25.0"
   ]
  },
  {
   "cell_type": "markdown",
   "metadata": {},
   "source": [
    "<a id='wrangling'></a>\n",
    "## Data Wrangling\n",
    "\n",
    "> **Tip**: In this section of the report, you will load in the data, check for cleanliness, and then trim and clean your dataset for analysis. Make sure that you **document your data cleaning steps in mark-down cells precisely and justify your cleaning decisions.**\n",
    "\n",
    "\n",
    "### General Properties\n",
    "> **Tip**: You should _not_ perform too many operations in each cell. Create cells freely to explore your data. One option that you can take with this project is to do a lot of explorations in an initial notebook. These don't have to be organized, but make sure you use enough comments to understand the purpose of each code cell. Then, after you're done with your analysis, create a duplicate notebook where you will trim the excess and organize your steps so that you have a flowing, cohesive report."
   ]
  },
  {
   "cell_type": "code",
   "execution_count": null,
   "metadata": {},
   "outputs": [],
   "source": [
    "# Load your data and print out a few lines. Perform operations to inspect data\n",
    "#   types and look for instances of missing or possibly errant data.\n",
    "df = pd.read_csv('noshowappointments-kagglev2-may-2016.csv')\n",
    "df.head()"
   ]
  },
  {
   "cell_type": "code",
   "execution_count": null,
   "metadata": {},
   "outputs": [],
   "source": [
    "df.shape()"
   ]
  },
  {
   "cell_type": "code",
   "execution_count": null,
   "metadata": {},
   "outputs": [],
   "source": [
    "df.describe()"
   ]
  },
  {
   "cell_type": "code",
   "execution_count": null,
   "metadata": {},
   "outputs": [],
   "source": [
    "df.info()"
   ]
  },
  {
   "cell_type": "markdown",
   "metadata": {},
   "source": [
    "\n",
    "### Data Cleaning\n",
    "> **Tip**: Make sure that you keep your reader informed on the steps that you are taking in your investigation. Follow every code cell, or every set of related code cells, with a markdown cell to describe to the reader what was found in the preceding cell(s). Try to make it so that the reader can then understand what they will be seeing in the following cell(s).\n",
    " "
   ]
  },
  {
   "cell_type": "code",
   "execution_count": null,
   "metadata": {},
   "outputs": [],
   "source": [
    "# After discussing the structure of the data and any problems that need to be\n",
    "#   cleaned, perform those cleaning steps in the second part of this section.\n",
    "df.drop(['PatientId', 'AppointmentID', 'ScheduledDay', 'AppointmentDay'], axis = 1, inplace = True)\n",
    "df.head()"
   ]
  },
  {
   "cell_type": "code",
   "execution_count": null,
   "metadata": {},
   "outputs": [],
   "source": [
    "#Renaming the no-show column\n",
    "df.rename(columns={'No-show' : 'No_show'}, inplace=True)\n",
    "df.head()"
   ]
  },
  {
   "cell_type": "code",
   "execution_count": null,
   "metadata": {},
   "outputs": [],
   "source": [
    "#Correction of \"Hipertension\" spelling\n",
    "df.rename(columns={'Hipertension':'Hypertension'},inplace=True)\n",
    "df.head()"
   ]
  },
  {
   "cell_type": "markdown",
   "metadata": {},
   "source": [
    "<a id='eda'></a>\n",
    "## Exploratory Data Analysis\n",
    "\n",
    "Let's have a look on the data"
   ]
  },
  {
   "cell_type": "code",
   "execution_count": null,
   "metadata": {},
   "outputs": [],
   "source": [
    "# Use this, and more code cells, to explore your data. Don't forget to add\n",
    "#   Markdown cells to document your observations and findings.\n",
    "df.hist(figsize=(18,10));"
   ]
  },
  {
   "cell_type": "markdown",
   "metadata": {},
   "source": [
    "Most of the patient don't have chronic diseases nor beening handicapped.\n",
    "200000 from 110000 have Hypertension.\n",
    "The number of patient who received an sms is double of who didn't.\n",
    "About 9% are enrolled in the Brasilian welfare program.\n"
   ]
  },
  {
   "cell_type": "code",
   "execution_count": null,
   "metadata": {},
   "outputs": [],
   "source": [
    "show = df.No_show =='No'\n",
    "noshow = df.No_show == 'yes'"
   ]
  },
  {
   "cell_type": "code",
   "execution_count": null,
   "metadata": {},
   "outputs": [],
   "source": [
    "df[show].count()"
   ]
  },
  {
   "cell_type": "code",
   "execution_count": null,
   "metadata": {},
   "outputs": [],
   "source": [
    "df[noshow].count()"
   ]
  },
  {
   "cell_type": "markdown",
   "metadata": {},
   "source": [
    "The number of those who showed at the clinc was about 4 times whose who didn't."
   ]
  },
  {
   "cell_type": "markdown",
   "metadata": {},
   "source": [
    "### Research Question 2  (No-show appointments!)"
   ]
  },
  {
   "cell_type": "code",
   "execution_count": null,
   "metadata": {},
   "outputs": [],
   "source": [
    "plt.figure(figsize=[15.78,7.27])\n",
    "df.Gender[show].hist(alpha=0.5,label = 'noshow')\n",
    "plt.legend()\n",
    "plt.title('comparisonbetween those who showed to those who did not according to Gender')\n",
    "plt.xlabel('Gender')\n",
    "plt.ylabel('Patients Number')"
   ]
  },
  {
   "cell_type": "code",
   "execution_count": null,
   "metadata": {},
   "outputs": [],
   "source": [
    "#compare between who showed to those who didn't in terms of Gender\n",
    "print(df.Gender[show].value_counts())\n",
    "print(df.Gender[noshow].value_counts())"
   ]
  },
  {
   "cell_type": "markdown",
   "metadata": {},
   "source": [
    "Gender is isigneficant ,Females who showed were more than males who did , and females who did not show were also more than males who did not."
   ]
  },
  {
   "cell_type": "code",
   "execution_count": null,
   "metadata": {},
   "outputs": [],
   "source": [
    "#Compare those who showed to those who didn't according to enrollment in the Brasillian welfare program\n",
    "plt.figure(figsize=[14.78,8.27])\n",
    "df.Scholarship[show].hist(alpha=0.5,label='show')\n",
    "df.Scholarship[noshow].hist(alpha=0.5,label='noshow')\n",
    "plt.legend()\n",
    "plt.title('Comparsion between those who showed to those who didn;t according to enrollment in the Brasillian welfare program')\n",
    "plt.xlabel('welfare')\n",
    "plt.ylabel('Patients Number');"
   ]
  },
  {
   "cell_type": "code",
   "execution_count": null,
   "metadata": {},
   "outputs": [],
   "source": [
    "#compare between who showed to those who didn't in terms of Gender\n",
    "print(df.Scholarship[show].value_counts())\n",
    "print(df.Scholarship[noshow].value_counts())"
   ]
  },
  {
   "cell_type": "markdown",
   "metadata": {},
   "source": [
    "Being enrolled in the brasillian welfare is insignificant."
   ]
  },
  {
   "cell_type": "code",
   "execution_count": null,
   "metadata": {},
   "outputs": [],
   "source": [
    "#Compare between those who showed to those who didn't according to Hypertension.\n",
    "plt.figure(figsize=[14.78,8.27])\n",
    "df.Hipertension[show].hist(alpha=0.5,label='show')\n",
    "df.Hipertension[noshow].hist(alpha=0.5,label='noshow')\n",
    "plt.legend()\n",
    "plt.title('Comparsion between those who showed to those who didnt according to Hypertension')\n",
    "plt.xlabel('Hypertension')\n",
    "plt.ylabel('Patients Number');"
   ]
  },
  {
   "cell_type": "markdown",
   "metadata": {},
   "source": [
    "Hypertension is insignificant."
   ]
  },
  {
   "cell_type": "code",
   "execution_count": null,
   "metadata": {},
   "outputs": [],
   "source": [
    "#Compare between those who showed to those who didn't according to diabetes.\n",
    "plt.figure(figsize=[14.78,8.27])\n",
    "df.Diabetes[show].hist(alpha=0.5,label='show')\n",
    "df.Diabetes[noshow].hist(alpha=0.5,label='noshow')\n",
    "plt.legend()\n",
    "plt.title('Comparsion between those who showed to those who didnt according to Diabetes')\n",
    "plt.xlabel('Diabetes')\n",
    "plt.ylabel('Patients Number');"
   ]
  },
  {
   "cell_type": "markdown",
   "metadata": {},
   "source": [
    "Diabetes is insignificant."
   ]
  },
  {
   "cell_type": "code",
   "execution_count": null,
   "metadata": {},
   "outputs": [],
   "source": [
    "#Compare between those who showed to those who didn't according to Alcoholism.\n",
    "plt.figure(figsize=[14.78,8.27])\n",
    "df.Alcoholism[show].hist(alpha=0.5,label='show')\n",
    "df.Alcoholism[noshow].hist(alpha=0.5,label='noshow')\n",
    "plt.legend()\n",
    "plt.title('Comparsion between those who showed to those who didnt according to Alcoholism')\n",
    "plt.xlabel('Alcoholism')\n",
    "plt.ylabel('Patients Number');"
   ]
  },
  {
   "cell_type": "markdown",
   "metadata": {},
   "source": [
    "Alcoholism is insignificant."
   ]
  },
  {
   "cell_type": "code",
   "execution_count": null,
   "metadata": {},
   "outputs": [],
   "source": [
    "#Compare between those who showed to those who didn't according to Handicapped.\n",
    "plt.figure(figsize=[14.78,8.27])\n",
    "df.Handcap[show].hist(alpha=0.5,label='show')\n",
    "df.Handcap[noshow].hist(alpha=0.5,label='noshow')\n",
    "plt.legend()\n",
    "plt.title('Comparsion between those who showed to those who didnt according to Handcapped')\n",
    "plt.xlabel('handcapped')\n",
    "plt.ylabel('Patients Number');"
   ]
  },
  {
   "cell_type": "markdown",
   "metadata": {},
   "source": [
    "Handcap is insignificant."
   ]
  },
  {
   "cell_type": "code",
   "execution_count": null,
   "metadata": {},
   "outputs": [],
   "source": [
    "#Compare between those who showed to those who didn't according to the SMS.\n",
    "plt.figure(figsize=[14.78,8.27])\n",
    "df.SMS_received[show].hist(alpha=0.5,label='show')\n",
    "df.SMS_received[noshow].hist(alpha=0.5,label='noshow')\n",
    "plt.legend()\n",
    "plt.title('Comparsion between those who showed to those who didnt according to SMS Received')\n",
    "plt.xlabel('Recieved SMS')\n",
    "plt.ylabel('Patients Number');"
   ]
  },
  {
   "cell_type": "markdown",
   "metadata": {},
   "source": [
    "people who have received an SMS message showed less than who did get an SMS."
   ]
  },
  {
   "cell_type": "code",
   "execution_count": null,
   "metadata": {},
   "outputs": [],
   "source": [
    "#Compare between those who showed to those who didn't according to their Age.\n",
    "plt.figure(figsize=[14.78,8.27])\n",
    "df.Age[show].hist(alpha=0.5,label='show')\n",
    "df.Age[noshow].hist(alpha=0.5,label='noshow')\n",
    "plt.legend()\n",
    "plt.title('Comparsion between those who showed to those who didnt according to Age')\n",
    "plt.xlabel('Age')\n",
    "plt.ylabel('Patients Number');"
   ]
  },
  {
   "cell_type": "markdown",
   "metadata": {},
   "source": [
    "kids from 0-10 years old showed more than all other ages then from 35-70."
   ]
  },
  {
   "cell_type": "code",
   "execution_count": null,
   "metadata": {},
   "outputs": [],
   "source": [
    "#Compare between those who showed to those who didn't according to their neibourhood.\n",
    "plt.figure(figsize=[14.78,8.27])\n",
    "df.neighbourhood[show].hist(alpha=0.5,label='show')\n",
    "df.neighbourhood[noshow].hist(alpha=0.5,label='noshow')\n",
    "plt.legend()\n",
    "plt.title('Comparsion between those who showed to their neighbourhood')\n",
    "plt.xlabel('neighbourhood')\n",
    "plt.ylabel('Patients Number');"
   ]
  },
  {
   "cell_type": "markdown",
   "metadata": {},
   "source": [
    "The Neighbourhood factor is highly effective in showing at the clinics."
   ]
  },
  {
   "cell_type": "markdown",
   "metadata": {},
   "source": [
    "<a id='conclusions'></a>\n",
    "## Conclusions\n",
    "At the end , i can say that the neighbourhood has the highest effect on the attendance of the patient to the clinics\n",
    "\n",
    "Age is also a good factor as young ages seems to show there more than elders.\n",
    "\n",
    "The less people receive SMS messages the more they show up .\n",
    "\n",
    "\n",
    "Limitation : Could not detect direct correlation between patients showing and many characteristics such as gender , chronic dieseases and disabilities.\n",
    "\n",
    "## Submitting your Project \n",
    "\n",
    "> **Tip**: Before you submit your project, you need to create a .html or .pdf version of this notebook in the workspace here. To do that, run the code cell below. If it worked correctly, you should get a return code of 0, and you should see the generated .html file in the workspace directory (click on the orange Jupyter icon in the upper left).\n",
    "\n",
    "> **Tip**: Alternatively, you can download this report as .html via the **File** > **Download as** submenu, and then manually upload it into the workspace directory by clicking on the orange Jupyter icon in the upper left, then using the Upload button.\n",
    "\n",
    "> **Tip**: Once you've done this, you can submit your project by clicking on the \"Submit Project\" button in the lower right here. This will create and submit a zip file with this .ipynb doc and the .html or .pdf version you created. Congratulations!"
   ]
  },
  {
   "cell_type": "code",
   "execution_count": null,
   "metadata": {},
   "outputs": [],
   "source": [
    "from subprocess import call\n",
    "call(['python', '-m', 'nbconvert', 'Investigate_a_Dataset.ipynb'])"
   ]
  }
 ],
 "metadata": {
  "kernelspec": {
   "display_name": "Python 3",
   "language": "python",
   "name": "python3"
  },
  "language_info": {
   "codemirror_mode": {
    "name": "ipython",
    "version": 3
   },
   "file_extension": ".py",
   "mimetype": "text/x-python",
   "name": "python",
   "nbconvert_exporter": "python",
   "pygments_lexer": "ipython3",
   "version": "3.6.3"
  }
 },
 "nbformat": 4,
 "nbformat_minor": 2
}
